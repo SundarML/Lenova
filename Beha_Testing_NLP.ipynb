{
 "cells": [
  {
   "cell_type": "code",
   "execution_count": 2,
   "id": "25beb708",
   "metadata": {},
   "outputs": [],
   "source": [
    "from textblob import TextBlob"
   ]
  },
  {
   "cell_type": "code",
   "execution_count": 18,
   "id": "dac888e5",
   "metadata": {},
   "outputs": [
    {
     "data": {
      "text/plain": [
       "0.4857142857142857"
      ]
     },
     "execution_count": 18,
     "metadata": {},
     "output_type": "execute_result"
    }
   ],
   "source": [
    "test = \"While BBS is still a viable strategy for occupational training, some critics are emerging. The author assesses the need to stop reacting to injuries and start predicting them using the available technology. In this respect, in BBS, it is common to have a huge amount of data generally collected by human data observers, and most of these observations are deemed as safe. \"\n",
    "TextBlob(test).sentiment[1]"
   ]
  },
  {
   "cell_type": "code",
   "execution_count": 22,
   "id": "3074985c",
   "metadata": {},
   "outputs": [
    {
     "data": {
      "text/plain": [
       "Sentiment(polarity=0.12321428571428572, subjectivity=0.6003571428571428)"
      ]
     },
     "execution_count": 22,
     "metadata": {},
     "output_type": "execute_result"
    }
   ],
   "source": [
    "test_1 = \"As we know A single risk might mean an accident from which we might never recover. Make every ones responsible for their own and team safety.The essence of BBS is safety control in the hand of each employee, they feel empowered and responsible\"\n",
    "TextBlob(test_1).sentiment"
   ]
  },
  {
   "cell_type": "code",
   "execution_count": null,
   "id": "0f65f62e",
   "metadata": {},
   "outputs": [],
   "source": []
  }
 ],
 "metadata": {
  "kernelspec": {
   "display_name": "Python 3 (ipykernel)",
   "language": "python",
   "name": "python3"
  },
  "language_info": {
   "codemirror_mode": {
    "name": "ipython",
    "version": 3
   },
   "file_extension": ".py",
   "mimetype": "text/x-python",
   "name": "python",
   "nbconvert_exporter": "python",
   "pygments_lexer": "ipython3",
   "version": "3.9.7"
  }
 },
 "nbformat": 4,
 "nbformat_minor": 5
}
